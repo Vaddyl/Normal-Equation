{
 "cells": [
  {
   "cell_type": "code",
   "execution_count": 51,
   "metadata": {},
   "outputs": [],
   "source": [
    "# Normal Equation Algorithm to find the linear function of multiple variables/features\n",
    "\n",
    "# So if you have m data with n features + target feature (the dependent feature), you think of the data as matrix\n",
    "# with m row and n + 1 column and target feature as vector of R^m.\n",
    "# So X*B = Y, for X = data matrix, Y = target vector, and B = parameter vector\n",
    "# To solve be we can use B = inv(trans(X)*X)*trans(X)*Y\n",
    "\n",
    "import numpy as np\n",
    "import pandas as pd\n",
    "\n",
    "# Importing csv data\n",
    "data = pd.read_csv('C:/Users/Fadilah/Desktop/ML/mlr04.csv')"
   ]
  },
  {
   "cell_type": "code",
   "execution_count": 52,
   "metadata": {},
   "outputs": [
    {
     "data": {
      "text/html": [
       "<div>\n",
       "<style>\n",
       "    .dataframe thead tr:only-child th {\n",
       "        text-align: right;\n",
       "    }\n",
       "\n",
       "    .dataframe thead th {\n",
       "        text-align: left;\n",
       "    }\n",
       "\n",
       "    .dataframe tbody tr th {\n",
       "        vertical-align: top;\n",
       "    }\n",
       "</style>\n",
       "<table border=\"1\" class=\"dataframe\">\n",
       "  <thead>\n",
       "    <tr style=\"text-align: right;\">\n",
       "      <th></th>\n",
       "      <th>X1</th>\n",
       "      <th>X2</th>\n",
       "      <th>X3</th>\n",
       "      <th>X4</th>\n",
       "    </tr>\n",
       "  </thead>\n",
       "  <tbody>\n",
       "    <tr>\n",
       "      <th>0</th>\n",
       "      <td>85.099998</td>\n",
       "      <td>8.5</td>\n",
       "      <td>5.100000</td>\n",
       "      <td>4.7</td>\n",
       "    </tr>\n",
       "    <tr>\n",
       "      <th>1</th>\n",
       "      <td>106.300003</td>\n",
       "      <td>12.9</td>\n",
       "      <td>5.800000</td>\n",
       "      <td>8.8</td>\n",
       "    </tr>\n",
       "    <tr>\n",
       "      <th>2</th>\n",
       "      <td>50.200001</td>\n",
       "      <td>5.2</td>\n",
       "      <td>2.100000</td>\n",
       "      <td>15.1</td>\n",
       "    </tr>\n",
       "    <tr>\n",
       "      <th>3</th>\n",
       "      <td>130.600006</td>\n",
       "      <td>10.7</td>\n",
       "      <td>8.399999</td>\n",
       "      <td>12.2</td>\n",
       "    </tr>\n",
       "    <tr>\n",
       "      <th>4</th>\n",
       "      <td>54.799999</td>\n",
       "      <td>3.1</td>\n",
       "      <td>2.900000</td>\n",
       "      <td>10.6</td>\n",
       "    </tr>\n",
       "  </tbody>\n",
       "</table>\n",
       "</div>"
      ],
      "text/plain": [
       "           X1    X2        X3    X4\n",
       "0   85.099998   8.5  5.100000   4.7\n",
       "1  106.300003  12.9  5.800000   8.8\n",
       "2   50.200001   5.2  2.100000  15.1\n",
       "3  130.600006  10.7  8.399999  12.2\n",
       "4   54.799999   3.1  2.900000  10.6"
      ]
     },
     "execution_count": 52,
     "metadata": {},
     "output_type": "execute_result"
    }
   ],
   "source": [
    "data.head()"
   ]
  },
  {
   "cell_type": "markdown",
   "metadata": {},
   "source": [
    "### Hollywood Movies\n",
    "\n",
    "- The data (X1, X2, X3, Y) are for each movie\n",
    "- X1 = first year box office receipts/millions\n",
    "- X2 = total production costs/millions\n",
    "- X3 = total promotional costs/millions\n",
    "- X4 = total book sales/millions\n",
    "\n",
    "You can get the dataset here : http://college.cengage.com/mathematics/brase/understandable_statistics/7e/students/datasets/mlr/excel/mlr02.xls"
   ]
  },
  {
   "cell_type": "code",
   "execution_count": 53,
   "metadata": {},
   "outputs": [],
   "source": [
    "# Because one of the paramater is just a constant number so we need to add a new column with value 1\n",
    "\n",
    "data['X0'] = 1\n",
    "y = data[['X4']]\n",
    "data = data[['X0', 'X1', 'X2', 'X3']]"
   ]
  },
  {
   "cell_type": "code",
   "execution_count": 54,
   "metadata": {},
   "outputs": [
    {
     "name": "stdout",
     "output_type": "stream",
     "text": [
      "   X0          X1    X2        X3\n",
      "0   1   85.099998   8.5  5.100000\n",
      "1   1  106.300003  12.9  5.800000\n",
      "2   1   50.200001   5.2  2.100000\n",
      "3   1  130.600006  10.7  8.399999\n",
      "4   1   54.799999   3.1  2.900000\n",
      "     X4\n",
      "0   4.7\n",
      "1   8.8\n",
      "2  15.1\n",
      "3  12.2\n",
      "4  10.6\n"
     ]
    }
   ],
   "source": [
    "print(data.head())\n",
    "print(y.head())"
   ]
  },
  {
   "cell_type": "code",
   "execution_count": 85,
   "metadata": {},
   "outputs": [
    {
     "name": "stdout",
     "output_type": "stream",
     "text": [
      "The hypothesis function we got using Normal Equation :\n",
      "h(X) = 0.999575 + 0.340680X1 + (-0.756516X2) + (-2.756566X3)\n"
     ]
    }
   ],
   "source": [
    "# B = inv(trans(X)*X)*trans(X)*Y\n",
    "X = np.matrix(data)\n",
    "Y = np.matrix(y)\n",
    "B = np.linalg.pinv(X.transpose()*X)*X.transpose()*Y\n",
    "print(\"The hypothesis function we got using Normal Equation :\")\n",
    "print(\"h(X) = %f + %fX1 + (%f)X2 + (%f)X3\" % (B[0], B[1], B[2], B[3]))"
   ]
  }
 ],
 "metadata": {
  "kernelspec": {
   "display_name": "Python 3",
   "language": "python",
   "name": "python3"
  },
  "language_info": {
   "codemirror_mode": {
    "name": "ipython",
    "version": 3
   },
   "file_extension": ".py",
   "mimetype": "text/x-python",
   "name": "python",
   "nbconvert_exporter": "python",
   "pygments_lexer": "ipython3",
   "version": "3.6.1"
  }
 },
 "nbformat": 4,
 "nbformat_minor": 2
}
